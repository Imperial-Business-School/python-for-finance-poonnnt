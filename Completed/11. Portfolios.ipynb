{
 "cells": [
  {
   "attachments": {},
   "cell_type": "markdown",
   "metadata": {},
   "source": [
    "# Portfolio Management\n",
    "\n",
    "A portfolio is a collection of financial investments. Let's see how we construct, analyse and optimise portfolios with Python. Like with every notebook, this one starts with a list of imports."
   ]
  },
  {
   "cell_type": "code",
   "execution_count": 20,
   "metadata": {},
   "outputs": [],
   "source": [
    "import matplotlib.pyplot as plt\n",
    "import numpy as np\n",
    "import pandas as pd\n",
    "import seaborn as sns\n",
    "import yfinance as yf\n",
    "\n",
    "plt.style.use(\"ggplot\")"
   ]
  },
  {
   "attachments": {},
   "cell_type": "markdown",
   "metadata": {},
   "source": [
    "## Portfolio Formation\n",
    "\n",
    "Today we'll form what is known as a 1/N portfolio, with 5 stocks in it. The 1/N refers to the total investment being divided equally among the N stocks that comprise the portfolio - which is 5 in our case today.\n",
    "\n",
    "Depending on what kind of data we have, portfolio formation can involve different steps.\n",
    "\n",
    "### Exercise: Pull a Portfolio (Yahoo! Finance)\n",
    "\n",
    "In this exercise, you'll pull Yahoo Finance data into panel data using yfinance.\n",
    "\n",
    "Here is an example of how we could join together data from multiple CSV files. Can you adapt this code to instead join together data pulled directly from Yahoo Finance?\n",
    "\n",
    "```python\n",
    "tickers = [\"TSLA\", \"MSFT\", \"AMZN\", \"META\", \"NVDA\"]\n",
    "groups = []\n",
    "\n",
    "for ticker in tickers:\n",
    "    data = pd.read_csv(ticker + \"_2020.csv\")\n",
    "    df.columns = df.columns.droplevel(1)\n",
    "    data.insert(0, \"Ticker\", ticker)\n",
    "    groups.append(data)\n",
    "\n",
    "multi_df = pd.concat(data)\n",
    "multi_df\n",
    "```\n",
    "\n",
    "Try it out in the code cell below:"
   ]
  },
  {
   "cell_type": "code",
   "execution_count": 21,
   "metadata": {},
   "outputs": [
    {
     "name": "stderr",
     "output_type": "stream",
     "text": [
      "[*********************100%***********************]  1 of 1 completed\n",
      "[*********************100%***********************]  1 of 1 completed"
     ]
    },
    {
     "name": "stderr",
     "output_type": "stream",
     "text": [
      "\n",
      "[*********************100%***********************]  1 of 1 completed\n",
      "[*********************100%***********************]  1 of 1 completed\n",
      "[*********************100%***********************]  1 of 1 completed\n"
     ]
    },
    {
     "data": {
      "application/vnd.microsoft.datawrangler.viewer.v0+json": {
       "columns": [
        {
         "name": "Date",
         "rawType": "datetime64[ns]",
         "type": "datetime"
        },
        {
         "name": "Ticker",
         "rawType": "object",
         "type": "string"
        },
        {
         "name": "Adj Close",
         "rawType": "float64",
         "type": "float"
        },
        {
         "name": "Close",
         "rawType": "float64",
         "type": "float"
        },
        {
         "name": "High",
         "rawType": "float64",
         "type": "float"
        },
        {
         "name": "Low",
         "rawType": "float64",
         "type": "float"
        },
        {
         "name": "Open",
         "rawType": "float64",
         "type": "float"
        },
        {
         "name": "Volume",
         "rawType": "int64",
         "type": "integer"
        }
       ],
       "ref": "217fdd4c-9a56-457a-9f79-3553af3d96ab",
       "rows": [
        [
         "2020-01-02 00:00:00",
         "TSLA",
         "28.68400001525879",
         "28.68400001525879",
         "28.713333129882812",
         "28.11400032043457",
         "28.299999237060547",
         "142981500"
        ],
        [
         "2020-01-03 00:00:00",
         "TSLA",
         "29.534000396728516",
         "29.534000396728516",
         "30.266666412353516",
         "29.128000259399414",
         "29.366666793823242",
         "266677500"
        ],
        [
         "2020-01-06 00:00:00",
         "TSLA",
         "30.1026668548584",
         "30.1026668548584",
         "30.104000091552734",
         "29.333332061767578",
         "29.364667892456055",
         "151995000"
        ],
        [
         "2020-01-07 00:00:00",
         "TSLA",
         "31.270666122436523",
         "31.270666122436523",
         "31.441999435424805",
         "30.224000930786133",
         "30.760000228881836",
         "268231500"
        ],
        [
         "2020-01-08 00:00:00",
         "TSLA",
         "32.80933380126953",
         "32.80933380126953",
         "33.232666015625",
         "31.215333938598633",
         "31.579999923706055",
         "467164500"
        ],
        [
         "2020-01-09 00:00:00",
         "TSLA",
         "32.089332580566406",
         "32.089332580566406",
         "33.253334045410156",
         "31.524667739868164",
         "33.13999938964844",
         "426606000"
        ],
        [
         "2020-01-10 00:00:00",
         "TSLA",
         "31.876667022705078",
         "31.876667022705078",
         "32.3293342590332",
         "31.579999923706055",
         "32.11933135986328",
         "194392500"
        ],
        [
         "2020-01-13 00:00:00",
         "TSLA",
         "34.990665435791016",
         "34.990665435791016",
         "35.04199981689453",
         "32.79999923706055",
         "32.900001525878906",
         "397764000"
        ],
        [
         "2020-01-14 00:00:00",
         "TSLA",
         "35.861331939697266",
         "35.861331939697266",
         "36.49399948120117",
         "34.99333190917969",
         "36.284000396728516",
         "434943000"
        ],
        [
         "2020-01-15 00:00:00",
         "TSLA",
         "34.56666564941406",
         "34.56666564941406",
         "35.85599899291992",
         "34.452667236328125",
         "35.31733322143555",
         "260532000"
        ],
        [
         "2020-01-16 00:00:00",
         "TSLA",
         "34.232666015625",
         "34.232666015625",
         "34.297332763671875",
         "32.81133270263672",
         "32.91666793823242",
         "326050500"
        ],
        [
         "2020-01-17 00:00:00",
         "TSLA",
         "34.03333282470703",
         "34.03333282470703",
         "34.37799835205078",
         "33.54399871826172",
         "33.840667724609375",
         "204436500"
        ],
        [
         "2020-01-21 00:00:00",
         "TSLA",
         "36.47999954223633",
         "36.47999954223633",
         "36.571998596191406",
         "35.227333068847656",
         "35.349998474121094",
         "267052500"
        ],
        [
         "2020-01-22 00:00:00",
         "TSLA",
         "37.97066879272461",
         "37.97066879272461",
         "39.633331298828125",
         "37.27333450317383",
         "38.125999450683594",
         "470535000"
        ],
        [
         "2020-01-23 00:00:00",
         "TSLA",
         "38.14666748046875",
         "38.14666748046875",
         "38.79999923706055",
         "37.040000915527344",
         "37.616668701171875",
         "294765000"
        ],
        [
         "2020-01-24 00:00:00",
         "TSLA",
         "37.654666900634766",
         "37.654666900634766",
         "38.25733184814453",
         "36.95066833496094",
         "38.04199981689453",
         "215304000"
        ],
        [
         "2020-01-27 00:00:00",
         "TSLA",
         "37.201332092285156",
         "37.201332092285156",
         "37.62933349609375",
         "35.95199966430664",
         "36.132667541503906",
         "204121500"
        ],
        [
         "2020-01-28 00:00:00",
         "TSLA",
         "37.793331146240234",
         "37.793331146240234",
         "38.45399856567383",
         "37.2053337097168",
         "37.89933395385742",
         "176827500"
        ],
        [
         "2020-01-29 00:00:00",
         "TSLA",
         "38.732666015625",
         "38.732666015625",
         "39.31999969482422",
         "37.82866668701172",
         "38.37933349609375",
         "267022500"
        ],
        [
         "2020-01-30 00:00:00",
         "TSLA",
         "42.72066879272461",
         "42.72066879272461",
         "43.391998291015625",
         "41.20000076293945",
         "42.16133117675781",
         "435085500"
        ],
        [
         "2020-01-31 00:00:00",
         "TSLA",
         "43.371334075927734",
         "43.371334075927734",
         "43.53333282470703",
         "42.167999267578125",
         "42.66666793823242",
         "235789500"
        ],
        [
         "2020-02-03 00:00:00",
         "TSLA",
         "52.0",
         "52.0",
         "52.409332275390625",
         "44.90133285522461",
         "44.91266632080078",
         "705975000"
        ],
        [
         "2020-02-04 00:00:00",
         "TSLA",
         "59.137332916259766",
         "59.137332916259766",
         "64.59933471679688",
         "55.59199905395508",
         "58.86399841308594",
         "914082000"
        ],
        [
         "2020-02-05 00:00:00",
         "TSLA",
         "48.97999954223633",
         "48.97999954223633",
         "56.39866638183594",
         "46.94066619873047",
         "54.88399887084961",
         "726357000"
        ],
        [
         "2020-02-06 00:00:00",
         "TSLA",
         "49.930667877197266",
         "49.930667877197266",
         "53.05533218383789",
         "45.79999923706055",
         "46.66133117675781",
         "598212000"
        ],
        [
         "2020-02-07 00:00:00",
         "TSLA",
         "49.871334075927734",
         "49.871334075927734",
         "51.31666564941406",
         "48.66666793823242",
         "48.70333480834961",
         "255952500"
        ],
        [
         "2020-02-10 00:00:00",
         "TSLA",
         "51.41866683959961",
         "51.41866683959961",
         "54.66600036621094",
         "50.15999984741211",
         "53.33333206176758",
         "370338000"
        ],
        [
         "2020-02-11 00:00:00",
         "TSLA",
         "51.62533187866211",
         "51.62533187866211",
         "52.23400115966797",
         "50.53333282470703",
         "51.25266647338867",
         "175462500"
        ],
        [
         "2020-02-12 00:00:00",
         "TSLA",
         "51.15266799926758",
         "51.15266799926758",
         "52.650001525878906",
         "50.891334533691406",
         "51.858001708984375",
         "180337500"
        ],
        [
         "2020-02-13 00:00:00",
         "TSLA",
         "53.599998474121094",
         "53.599998474121094",
         "54.53333282470703",
         "49.0",
         "49.45600128173828",
         "394339500"
        ],
        [
         "2020-02-14 00:00:00",
         "TSLA",
         "53.33533477783203",
         "53.33533477783203",
         "54.198001861572266",
         "52.366668701171875",
         "52.4813346862793",
         "235405500"
        ],
        [
         "2020-02-18 00:00:00",
         "TSLA",
         "57.22666549682617",
         "57.22666549682617",
         "57.33333206176758",
         "55.490665435791016",
         "56.106666564941406",
         "245725500"
        ],
        [
         "2020-02-19 00:00:00",
         "TSLA",
         "61.16133117675781",
         "61.16133117675781",
         "62.98533248901367",
         "60.06800079345703",
         "61.56666564941406",
         "381345000"
        ],
        [
         "2020-02-20 00:00:00",
         "TSLA",
         "59.96066665649414",
         "59.96066665649414",
         "60.79999923706055",
         "57.3293342590332",
         "60.79666519165039",
         "264523500"
        ],
        [
         "2020-02-21 00:00:00",
         "TSLA",
         "60.06666564941406",
         "60.06666564941406",
         "60.87066650390625",
         "58.6966667175293",
         "60.46533203125",
         "214722000"
        ],
        [
         "2020-02-24 00:00:00",
         "TSLA",
         "55.58599853515625",
         "55.58599853515625",
         "57.56666564941406",
         "54.813331604003906",
         "55.93333435058594",
         "227883000"
        ],
        [
         "2020-02-25 00:00:00",
         "TSLA",
         "53.32733154296875",
         "53.32733154296875",
         "57.106666564941406",
         "52.46666717529297",
         "56.599998474121094",
         "259357500"
        ],
        [
         "2020-02-26 00:00:00",
         "TSLA",
         "51.91999816894531",
         "51.91999816894531",
         "54.22066879272461",
         "51.740665435791016",
         "52.16666793823242",
         "211282500"
        ],
        [
         "2020-02-27 00:00:00",
         "TSLA",
         "45.266666412353516",
         "45.266666412353516",
         "49.31800079345703",
         "44.599998474121094",
         "48.66666793823242",
         "364158000"
        ],
        [
         "2020-02-28 00:00:00",
         "TSLA",
         "44.53266525268555",
         "44.53266525268555",
         "46.03466796875",
         "40.768001556396484",
         "41.97999954223633",
         "363343500"
        ],
        [
         "2020-03-02 00:00:00",
         "TSLA",
         "49.574668884277344",
         "49.574668884277344",
         "49.5793342590332",
         "45.77799987792969",
         "47.41733169555664",
         "302925000"
        ],
        [
         "2020-03-03 00:00:00",
         "TSLA",
         "49.70066833496094",
         "49.70066833496094",
         "53.798667907714844",
         "47.740665435791016",
         "53.66666793823242",
         "386760000"
        ],
        [
         "2020-03-04 00:00:00",
         "TSLA",
         "49.96666717529297",
         "49.96666717529297",
         "51.10133361816406",
         "48.31533432006836",
         "50.930667877197266",
         "225735000"
        ],
        [
         "2020-03-05 00:00:00",
         "TSLA",
         "48.30266571044922",
         "48.30266571044922",
         "49.71666717529297",
         "47.871334075927734",
         "48.2513313293457",
         "162790500"
        ],
        [
         "2020-03-06 00:00:00",
         "TSLA",
         "46.89866638183594",
         "46.89866638183594",
         "47.133331298828125",
         "45.61800003051758",
         "46.0",
         "189943500"
        ],
        [
         "2020-03-09 00:00:00",
         "TSLA",
         "40.53333282470703",
         "40.53333282470703",
         "44.20000076293945",
         "40.33333206176758",
         "40.35933303833008",
         "256105500"
        ],
        [
         "2020-03-10 00:00:00",
         "TSLA",
         "43.02199935913086",
         "43.02199935913086",
         "44.53333282470703",
         "40.53333282470703",
         "43.96200180053711",
         "233916000"
        ],
        [
         "2020-03-11 00:00:00",
         "TSLA",
         "42.28200149536133",
         "42.28200149536133",
         "43.571998596191406",
         "40.866668701171875",
         "42.68000030517578",
         "199837500"
        ],
        [
         "2020-03-12 00:00:00",
         "TSLA",
         "37.369998931884766",
         "37.369998931884766",
         "39.633331298828125",
         "36.41666793823242",
         "38.72600173950195",
         "283636500"
        ],
        [
         "2020-03-13 00:00:00",
         "TSLA",
         "36.44133377075195",
         "36.44133377075195",
         "40.50466537475586",
         "33.46666717529297",
         "39.66666793823242",
         "339604500"
        ]
       ],
       "shape": {
        "columns": 7,
        "rows": 1260
       }
      },
      "text/html": [
       "<div>\n",
       "<style scoped>\n",
       "    .dataframe tbody tr th:only-of-type {\n",
       "        vertical-align: middle;\n",
       "    }\n",
       "\n",
       "    .dataframe tbody tr th {\n",
       "        vertical-align: top;\n",
       "    }\n",
       "\n",
       "    .dataframe thead th {\n",
       "        text-align: right;\n",
       "    }\n",
       "</style>\n",
       "<table border=\"1\" class=\"dataframe\">\n",
       "  <thead>\n",
       "    <tr style=\"text-align: right;\">\n",
       "      <th>Price</th>\n",
       "      <th>Ticker</th>\n",
       "      <th>Adj Close</th>\n",
       "      <th>Close</th>\n",
       "      <th>High</th>\n",
       "      <th>Low</th>\n",
       "      <th>Open</th>\n",
       "      <th>Volume</th>\n",
       "    </tr>\n",
       "    <tr>\n",
       "      <th>Date</th>\n",
       "      <th></th>\n",
       "      <th></th>\n",
       "      <th></th>\n",
       "      <th></th>\n",
       "      <th></th>\n",
       "      <th></th>\n",
       "      <th></th>\n",
       "    </tr>\n",
       "  </thead>\n",
       "  <tbody>\n",
       "    <tr>\n",
       "      <th>2020-01-02</th>\n",
       "      <td>TSLA</td>\n",
       "      <td>28.684000</td>\n",
       "      <td>28.684000</td>\n",
       "      <td>28.713333</td>\n",
       "      <td>28.114000</td>\n",
       "      <td>28.299999</td>\n",
       "      <td>142981500</td>\n",
       "    </tr>\n",
       "    <tr>\n",
       "      <th>2020-01-03</th>\n",
       "      <td>TSLA</td>\n",
       "      <td>29.534000</td>\n",
       "      <td>29.534000</td>\n",
       "      <td>30.266666</td>\n",
       "      <td>29.128000</td>\n",
       "      <td>29.366667</td>\n",
       "      <td>266677500</td>\n",
       "    </tr>\n",
       "    <tr>\n",
       "      <th>2020-01-06</th>\n",
       "      <td>TSLA</td>\n",
       "      <td>30.102667</td>\n",
       "      <td>30.102667</td>\n",
       "      <td>30.104000</td>\n",
       "      <td>29.333332</td>\n",
       "      <td>29.364668</td>\n",
       "      <td>151995000</td>\n",
       "    </tr>\n",
       "    <tr>\n",
       "      <th>2020-01-07</th>\n",
       "      <td>TSLA</td>\n",
       "      <td>31.270666</td>\n",
       "      <td>31.270666</td>\n",
       "      <td>31.441999</td>\n",
       "      <td>30.224001</td>\n",
       "      <td>30.760000</td>\n",
       "      <td>268231500</td>\n",
       "    </tr>\n",
       "    <tr>\n",
       "      <th>2020-01-08</th>\n",
       "      <td>TSLA</td>\n",
       "      <td>32.809334</td>\n",
       "      <td>32.809334</td>\n",
       "      <td>33.232666</td>\n",
       "      <td>31.215334</td>\n",
       "      <td>31.580000</td>\n",
       "      <td>467164500</td>\n",
       "    </tr>\n",
       "    <tr>\n",
       "      <th>...</th>\n",
       "      <td>...</td>\n",
       "      <td>...</td>\n",
       "      <td>...</td>\n",
       "      <td>...</td>\n",
       "      <td>...</td>\n",
       "      <td>...</td>\n",
       "      <td>...</td>\n",
       "    </tr>\n",
       "    <tr>\n",
       "      <th>2020-12-23</th>\n",
       "      <td>NVDA</td>\n",
       "      <td>12.974220</td>\n",
       "      <td>13.009250</td>\n",
       "      <td>13.275000</td>\n",
       "      <td>13.005000</td>\n",
       "      <td>13.256000</td>\n",
       "      <td>179144000</td>\n",
       "    </tr>\n",
       "    <tr>\n",
       "      <th>2020-12-24</th>\n",
       "      <td>NVDA</td>\n",
       "      <td>12.958764</td>\n",
       "      <td>12.993750</td>\n",
       "      <td>13.132500</td>\n",
       "      <td>12.938750</td>\n",
       "      <td>13.037250</td>\n",
       "      <td>97884000</td>\n",
       "    </tr>\n",
       "    <tr>\n",
       "      <th>2020-12-28</th>\n",
       "      <td>NVDA</td>\n",
       "      <td>12.865266</td>\n",
       "      <td>12.900000</td>\n",
       "      <td>13.062500</td>\n",
       "      <td>12.763250</td>\n",
       "      <td>13.062500</td>\n",
       "      <td>212564000</td>\n",
       "    </tr>\n",
       "    <tr>\n",
       "      <th>2020-12-29</th>\n",
       "      <td>NVDA</td>\n",
       "      <td>12.908400</td>\n",
       "      <td>12.943250</td>\n",
       "      <td>13.072500</td>\n",
       "      <td>12.842250</td>\n",
       "      <td>12.925000</td>\n",
       "      <td>170372000</td>\n",
       "    </tr>\n",
       "    <tr>\n",
       "      <th>2020-12-30</th>\n",
       "      <td>NVDA</td>\n",
       "      <td>13.110357</td>\n",
       "      <td>13.145750</td>\n",
       "      <td>13.213750</td>\n",
       "      <td>12.896750</td>\n",
       "      <td>12.990250</td>\n",
       "      <td>225396000</td>\n",
       "    </tr>\n",
       "  </tbody>\n",
       "</table>\n",
       "<p>1260 rows × 7 columns</p>\n",
       "</div>"
      ],
      "text/plain": [
       "Price      Ticker  Adj Close      Close       High        Low       Open  \\\n",
       "Date                                                                       \n",
       "2020-01-02   TSLA  28.684000  28.684000  28.713333  28.114000  28.299999   \n",
       "2020-01-03   TSLA  29.534000  29.534000  30.266666  29.128000  29.366667   \n",
       "2020-01-06   TSLA  30.102667  30.102667  30.104000  29.333332  29.364668   \n",
       "2020-01-07   TSLA  31.270666  31.270666  31.441999  30.224001  30.760000   \n",
       "2020-01-08   TSLA  32.809334  32.809334  33.232666  31.215334  31.580000   \n",
       "...           ...        ...        ...        ...        ...        ...   \n",
       "2020-12-23   NVDA  12.974220  13.009250  13.275000  13.005000  13.256000   \n",
       "2020-12-24   NVDA  12.958764  12.993750  13.132500  12.938750  13.037250   \n",
       "2020-12-28   NVDA  12.865266  12.900000  13.062500  12.763250  13.062500   \n",
       "2020-12-29   NVDA  12.908400  12.943250  13.072500  12.842250  12.925000   \n",
       "2020-12-30   NVDA  13.110357  13.145750  13.213750  12.896750  12.990250   \n",
       "\n",
       "Price          Volume  \n",
       "Date                   \n",
       "2020-01-02  142981500  \n",
       "2020-01-03  266677500  \n",
       "2020-01-06  151995000  \n",
       "2020-01-07  268231500  \n",
       "2020-01-08  467164500  \n",
       "...               ...  \n",
       "2020-12-23  179144000  \n",
       "2020-12-24   97884000  \n",
       "2020-12-28  212564000  \n",
       "2020-12-29  170372000  \n",
       "2020-12-30  225396000  \n",
       "\n",
       "[1260 rows x 7 columns]"
      ]
     },
     "execution_count": 21,
     "metadata": {},
     "output_type": "execute_result"
    }
   ],
   "source": [
    "tickers = [\"TSLA\", \"MSFT\", \"AMZN\", \"META\", \"NVDA\"]\n",
    "groups = []\n",
    "\n",
    "for ticker in tickers:\n",
    "    data = yf.download(ticker, start=\"2020-01-01\", end=\"2020-12-31\", auto_adjust=False)\n",
    "    data.columns = data.columns.droplevel(1)\n",
    "    data.insert(0, \"Ticker\", ticker)\n",
    "    groups.append(data)\n",
    "\n",
    "multi_df = pd.concat(groups)\n",
    "multi_df"
   ]
  },
  {
   "attachments": {},
   "cell_type": "markdown",
   "metadata": {},
   "source": [
    "#### Multi-Stock Time Series Data (CRSP)\n",
    "\n",
    "Maybe instead of Yahoo! Finance, you took advantage of the [College WRDS access](https://www.imperial.ac.uk/admin-services/library/subject-support/business/crsp/), or obtained a CSV with your data in some other way.\n",
    "\n",
    "Let's work with our panel data as before."
   ]
  },
  {
   "cell_type": "code",
   "execution_count": 22,
   "metadata": {},
   "outputs": [
    {
     "ename": "FileNotFoundError",
     "evalue": "[Errno 2] No such file or directory: 'data/top_six_2020_2025.csv'",
     "output_type": "error",
     "traceback": [
      "\u001b[31m---------------------------------------------------------------------------\u001b[39m",
      "\u001b[31mFileNotFoundError\u001b[39m                         Traceback (most recent call last)",
      "\u001b[36mCell\u001b[39m\u001b[36m \u001b[39m\u001b[32mIn[22]\u001b[39m\u001b[32m, line 1\u001b[39m\n\u001b[32m----> \u001b[39m\u001b[32m1\u001b[39m df = \u001b[43mpd\u001b[49m\u001b[43m.\u001b[49m\u001b[43mread_csv\u001b[49m\u001b[43m(\u001b[49m\u001b[33;43m\"\u001b[39;49m\u001b[33;43mdata/top_six_2020_2025.csv\u001b[39;49m\u001b[33;43m\"\u001b[39;49m\u001b[43m,\u001b[49m\u001b[43m \u001b[49m\u001b[43mdayfirst\u001b[49m\u001b[43m=\u001b[49m\u001b[38;5;28;43;01mTrue\u001b[39;49;00m\u001b[43m)\u001b[49m\n",
      "\u001b[36mFile \u001b[39m\u001b[32m~/.local/lib/python3.12/site-packages/pandas/io/parsers/readers.py:1026\u001b[39m, in \u001b[36mread_csv\u001b[39m\u001b[34m(filepath_or_buffer, sep, delimiter, header, names, index_col, usecols, dtype, engine, converters, true_values, false_values, skipinitialspace, skiprows, skipfooter, nrows, na_values, keep_default_na, na_filter, verbose, skip_blank_lines, parse_dates, infer_datetime_format, keep_date_col, date_parser, date_format, dayfirst, cache_dates, iterator, chunksize, compression, thousands, decimal, lineterminator, quotechar, quoting, doublequote, escapechar, comment, encoding, encoding_errors, dialect, on_bad_lines, delim_whitespace, low_memory, memory_map, float_precision, storage_options, dtype_backend)\u001b[39m\n\u001b[32m   1013\u001b[39m kwds_defaults = _refine_defaults_read(\n\u001b[32m   1014\u001b[39m     dialect,\n\u001b[32m   1015\u001b[39m     delimiter,\n\u001b[32m   (...)\u001b[39m\u001b[32m   1022\u001b[39m     dtype_backend=dtype_backend,\n\u001b[32m   1023\u001b[39m )\n\u001b[32m   1024\u001b[39m kwds.update(kwds_defaults)\n\u001b[32m-> \u001b[39m\u001b[32m1026\u001b[39m \u001b[38;5;28;01mreturn\u001b[39;00m \u001b[43m_read\u001b[49m\u001b[43m(\u001b[49m\u001b[43mfilepath_or_buffer\u001b[49m\u001b[43m,\u001b[49m\u001b[43m \u001b[49m\u001b[43mkwds\u001b[49m\u001b[43m)\u001b[49m\n",
      "\u001b[36mFile \u001b[39m\u001b[32m~/.local/lib/python3.12/site-packages/pandas/io/parsers/readers.py:620\u001b[39m, in \u001b[36m_read\u001b[39m\u001b[34m(filepath_or_buffer, kwds)\u001b[39m\n\u001b[32m    617\u001b[39m _validate_names(kwds.get(\u001b[33m\"\u001b[39m\u001b[33mnames\u001b[39m\u001b[33m\"\u001b[39m, \u001b[38;5;28;01mNone\u001b[39;00m))\n\u001b[32m    619\u001b[39m \u001b[38;5;66;03m# Create the parser.\u001b[39;00m\n\u001b[32m--> \u001b[39m\u001b[32m620\u001b[39m parser = \u001b[43mTextFileReader\u001b[49m\u001b[43m(\u001b[49m\u001b[43mfilepath_or_buffer\u001b[49m\u001b[43m,\u001b[49m\u001b[43m \u001b[49m\u001b[43m*\u001b[49m\u001b[43m*\u001b[49m\u001b[43mkwds\u001b[49m\u001b[43m)\u001b[49m\n\u001b[32m    622\u001b[39m \u001b[38;5;28;01mif\u001b[39;00m chunksize \u001b[38;5;129;01mor\u001b[39;00m iterator:\n\u001b[32m    623\u001b[39m     \u001b[38;5;28;01mreturn\u001b[39;00m parser\n",
      "\u001b[36mFile \u001b[39m\u001b[32m~/.local/lib/python3.12/site-packages/pandas/io/parsers/readers.py:1620\u001b[39m, in \u001b[36mTextFileReader.__init__\u001b[39m\u001b[34m(self, f, engine, **kwds)\u001b[39m\n\u001b[32m   1617\u001b[39m     \u001b[38;5;28mself\u001b[39m.options[\u001b[33m\"\u001b[39m\u001b[33mhas_index_names\u001b[39m\u001b[33m\"\u001b[39m] = kwds[\u001b[33m\"\u001b[39m\u001b[33mhas_index_names\u001b[39m\u001b[33m\"\u001b[39m]\n\u001b[32m   1619\u001b[39m \u001b[38;5;28mself\u001b[39m.handles: IOHandles | \u001b[38;5;28;01mNone\u001b[39;00m = \u001b[38;5;28;01mNone\u001b[39;00m\n\u001b[32m-> \u001b[39m\u001b[32m1620\u001b[39m \u001b[38;5;28mself\u001b[39m._engine = \u001b[38;5;28;43mself\u001b[39;49m\u001b[43m.\u001b[49m\u001b[43m_make_engine\u001b[49m\u001b[43m(\u001b[49m\u001b[43mf\u001b[49m\u001b[43m,\u001b[49m\u001b[43m \u001b[49m\u001b[38;5;28;43mself\u001b[39;49m\u001b[43m.\u001b[49m\u001b[43mengine\u001b[49m\u001b[43m)\u001b[49m\n",
      "\u001b[36mFile \u001b[39m\u001b[32m~/.local/lib/python3.12/site-packages/pandas/io/parsers/readers.py:1880\u001b[39m, in \u001b[36mTextFileReader._make_engine\u001b[39m\u001b[34m(self, f, engine)\u001b[39m\n\u001b[32m   1878\u001b[39m     \u001b[38;5;28;01mif\u001b[39;00m \u001b[33m\"\u001b[39m\u001b[33mb\u001b[39m\u001b[33m\"\u001b[39m \u001b[38;5;129;01mnot\u001b[39;00m \u001b[38;5;129;01min\u001b[39;00m mode:\n\u001b[32m   1879\u001b[39m         mode += \u001b[33m\"\u001b[39m\u001b[33mb\u001b[39m\u001b[33m\"\u001b[39m\n\u001b[32m-> \u001b[39m\u001b[32m1880\u001b[39m \u001b[38;5;28mself\u001b[39m.handles = \u001b[43mget_handle\u001b[49m\u001b[43m(\u001b[49m\n\u001b[32m   1881\u001b[39m \u001b[43m    \u001b[49m\u001b[43mf\u001b[49m\u001b[43m,\u001b[49m\n\u001b[32m   1882\u001b[39m \u001b[43m    \u001b[49m\u001b[43mmode\u001b[49m\u001b[43m,\u001b[49m\n\u001b[32m   1883\u001b[39m \u001b[43m    \u001b[49m\u001b[43mencoding\u001b[49m\u001b[43m=\u001b[49m\u001b[38;5;28;43mself\u001b[39;49m\u001b[43m.\u001b[49m\u001b[43moptions\u001b[49m\u001b[43m.\u001b[49m\u001b[43mget\u001b[49m\u001b[43m(\u001b[49m\u001b[33;43m\"\u001b[39;49m\u001b[33;43mencoding\u001b[39;49m\u001b[33;43m\"\u001b[39;49m\u001b[43m,\u001b[49m\u001b[43m \u001b[49m\u001b[38;5;28;43;01mNone\u001b[39;49;00m\u001b[43m)\u001b[49m\u001b[43m,\u001b[49m\n\u001b[32m   1884\u001b[39m \u001b[43m    \u001b[49m\u001b[43mcompression\u001b[49m\u001b[43m=\u001b[49m\u001b[38;5;28;43mself\u001b[39;49m\u001b[43m.\u001b[49m\u001b[43moptions\u001b[49m\u001b[43m.\u001b[49m\u001b[43mget\u001b[49m\u001b[43m(\u001b[49m\u001b[33;43m\"\u001b[39;49m\u001b[33;43mcompression\u001b[39;49m\u001b[33;43m\"\u001b[39;49m\u001b[43m,\u001b[49m\u001b[43m \u001b[49m\u001b[38;5;28;43;01mNone\u001b[39;49;00m\u001b[43m)\u001b[49m\u001b[43m,\u001b[49m\n\u001b[32m   1885\u001b[39m \u001b[43m    \u001b[49m\u001b[43mmemory_map\u001b[49m\u001b[43m=\u001b[49m\u001b[38;5;28;43mself\u001b[39;49m\u001b[43m.\u001b[49m\u001b[43moptions\u001b[49m\u001b[43m.\u001b[49m\u001b[43mget\u001b[49m\u001b[43m(\u001b[49m\u001b[33;43m\"\u001b[39;49m\u001b[33;43mmemory_map\u001b[39;49m\u001b[33;43m\"\u001b[39;49m\u001b[43m,\u001b[49m\u001b[43m \u001b[49m\u001b[38;5;28;43;01mFalse\u001b[39;49;00m\u001b[43m)\u001b[49m\u001b[43m,\u001b[49m\n\u001b[32m   1886\u001b[39m \u001b[43m    \u001b[49m\u001b[43mis_text\u001b[49m\u001b[43m=\u001b[49m\u001b[43mis_text\u001b[49m\u001b[43m,\u001b[49m\n\u001b[32m   1887\u001b[39m \u001b[43m    \u001b[49m\u001b[43merrors\u001b[49m\u001b[43m=\u001b[49m\u001b[38;5;28;43mself\u001b[39;49m\u001b[43m.\u001b[49m\u001b[43moptions\u001b[49m\u001b[43m.\u001b[49m\u001b[43mget\u001b[49m\u001b[43m(\u001b[49m\u001b[33;43m\"\u001b[39;49m\u001b[33;43mencoding_errors\u001b[39;49m\u001b[33;43m\"\u001b[39;49m\u001b[43m,\u001b[49m\u001b[43m \u001b[49m\u001b[33;43m\"\u001b[39;49m\u001b[33;43mstrict\u001b[39;49m\u001b[33;43m\"\u001b[39;49m\u001b[43m)\u001b[49m\u001b[43m,\u001b[49m\n\u001b[32m   1888\u001b[39m \u001b[43m    \u001b[49m\u001b[43mstorage_options\u001b[49m\u001b[43m=\u001b[49m\u001b[38;5;28;43mself\u001b[39;49m\u001b[43m.\u001b[49m\u001b[43moptions\u001b[49m\u001b[43m.\u001b[49m\u001b[43mget\u001b[49m\u001b[43m(\u001b[49m\u001b[33;43m\"\u001b[39;49m\u001b[33;43mstorage_options\u001b[39;49m\u001b[33;43m\"\u001b[39;49m\u001b[43m,\u001b[49m\u001b[43m \u001b[49m\u001b[38;5;28;43;01mNone\u001b[39;49;00m\u001b[43m)\u001b[49m\u001b[43m,\u001b[49m\n\u001b[32m   1889\u001b[39m \u001b[43m\u001b[49m\u001b[43m)\u001b[49m\n\u001b[32m   1890\u001b[39m \u001b[38;5;28;01massert\u001b[39;00m \u001b[38;5;28mself\u001b[39m.handles \u001b[38;5;129;01mis\u001b[39;00m \u001b[38;5;129;01mnot\u001b[39;00m \u001b[38;5;28;01mNone\u001b[39;00m\n\u001b[32m   1891\u001b[39m f = \u001b[38;5;28mself\u001b[39m.handles.handle\n",
      "\u001b[36mFile \u001b[39m\u001b[32m~/.local/lib/python3.12/site-packages/pandas/io/common.py:873\u001b[39m, in \u001b[36mget_handle\u001b[39m\u001b[34m(path_or_buf, mode, encoding, compression, memory_map, is_text, errors, storage_options)\u001b[39m\n\u001b[32m    868\u001b[39m \u001b[38;5;28;01melif\u001b[39;00m \u001b[38;5;28misinstance\u001b[39m(handle, \u001b[38;5;28mstr\u001b[39m):\n\u001b[32m    869\u001b[39m     \u001b[38;5;66;03m# Check whether the filename is to be opened in binary mode.\u001b[39;00m\n\u001b[32m    870\u001b[39m     \u001b[38;5;66;03m# Binary mode does not support 'encoding' and 'newline'.\u001b[39;00m\n\u001b[32m    871\u001b[39m     \u001b[38;5;28;01mif\u001b[39;00m ioargs.encoding \u001b[38;5;129;01mand\u001b[39;00m \u001b[33m\"\u001b[39m\u001b[33mb\u001b[39m\u001b[33m\"\u001b[39m \u001b[38;5;129;01mnot\u001b[39;00m \u001b[38;5;129;01min\u001b[39;00m ioargs.mode:\n\u001b[32m    872\u001b[39m         \u001b[38;5;66;03m# Encoding\u001b[39;00m\n\u001b[32m--> \u001b[39m\u001b[32m873\u001b[39m         handle = \u001b[38;5;28;43mopen\u001b[39;49m\u001b[43m(\u001b[49m\n\u001b[32m    874\u001b[39m \u001b[43m            \u001b[49m\u001b[43mhandle\u001b[49m\u001b[43m,\u001b[49m\n\u001b[32m    875\u001b[39m \u001b[43m            \u001b[49m\u001b[43mioargs\u001b[49m\u001b[43m.\u001b[49m\u001b[43mmode\u001b[49m\u001b[43m,\u001b[49m\n\u001b[32m    876\u001b[39m \u001b[43m            \u001b[49m\u001b[43mencoding\u001b[49m\u001b[43m=\u001b[49m\u001b[43mioargs\u001b[49m\u001b[43m.\u001b[49m\u001b[43mencoding\u001b[49m\u001b[43m,\u001b[49m\n\u001b[32m    877\u001b[39m \u001b[43m            \u001b[49m\u001b[43merrors\u001b[49m\u001b[43m=\u001b[49m\u001b[43merrors\u001b[49m\u001b[43m,\u001b[49m\n\u001b[32m    878\u001b[39m \u001b[43m            \u001b[49m\u001b[43mnewline\u001b[49m\u001b[43m=\u001b[49m\u001b[33;43m\"\u001b[39;49m\u001b[33;43m\"\u001b[39;49m\u001b[43m,\u001b[49m\n\u001b[32m    879\u001b[39m \u001b[43m        \u001b[49m\u001b[43m)\u001b[49m\n\u001b[32m    880\u001b[39m     \u001b[38;5;28;01melse\u001b[39;00m:\n\u001b[32m    881\u001b[39m         \u001b[38;5;66;03m# Binary mode\u001b[39;00m\n\u001b[32m    882\u001b[39m         handle = \u001b[38;5;28mopen\u001b[39m(handle, ioargs.mode)\n",
      "\u001b[31mFileNotFoundError\u001b[39m: [Errno 2] No such file or directory: 'data/top_six_2020_2025.csv'"
     ]
    }
   ],
   "source": [
    "df = pd.read_csv(\"data/top_six_2020_2025.csv\", dayfirst=True)"
   ]
  },
  {
   "cell_type": "code",
   "execution_count": null,
   "metadata": {},
   "outputs": [],
   "source": [
    "# Pivot the DataFrame to wide format with stocks as columns and dates as index\n",
    "df_pivot = df.pivot(index='DlyCalDt', columns='Ticker', values='DlyClose')\n",
    "df_pivot\n",
    "\n",
    "portfolio_stocks = df_pivot.columns[:5] # Just grab the first 5\n",
    "df_pivot = df_pivot[portfolio_stocks]\n",
    "\n",
    "weights = np.ones(5) / 5"
   ]
  },
  {
   "attachments": {},
   "cell_type": "markdown",
   "metadata": {},
   "source": [
    "## Calculating Portfolio Daily Returns\n",
    "\n",
    "First, let's determine the returns of our portfolio. We'll need to start with the daily returns of each stock, and then use `np.dot()` to mutliply each column of returns against its weight in the portfolio."
   ]
  },
  {
   "cell_type": "code",
   "execution_count": null,
   "metadata": {},
   "outputs": [],
   "source": [
    "# Calculate the simple return of each stock in the portfolio\n",
    "returns = df_pivot.pct_change()\n",
    "returns = returns.dropna()\n",
    "\n",
    "# Compute the portfolio returns\n",
    "portfolio_returns = np.dot(returns, weights)\n",
    "\n",
    "# While we're at it check the daily volatility (standard deviation of portfolio returns)\n",
    "daily_volatility = portfolio_returns.std()"
   ]
  },
  {
   "attachments": {},
   "cell_type": "markdown",
   "metadata": {},
   "source": [
    "## Annualising Returns and Volatility\n",
    "\n",
    "To provide a broader picture of our portfolio's performance, let's calculate the annualised portfolio return and volatility. These are important metrics for evaluating and discussing portfolios. They are also used frequently in more advanced financial analyses."
   ]
  },
  {
   "cell_type": "code",
   "execution_count": null,
   "metadata": {},
   "outputs": [],
   "source": [
    "# Define the number of trading days in a year\n",
    "trading_days = 252\n",
    "\n",
    "# Annualize the portfolio return\n",
    "annualised_return = portfolio_returns.mean() * trading_days\n",
    "\n",
    "# Annualize the portfolio volatility\n",
    "annualised_volatility = daily_volatility * np.sqrt(trading_days)"
   ]
  },
  {
   "attachments": {},
   "cell_type": "markdown",
   "metadata": {},
   "source": [
    "## Sharpe Ratio\n",
    "\n",
    "The Sharpe Ratio is a measure that helps investors understand the risk-adjusted return of an investment. A high Sharpe ratio indicates that the portfolio's returns are higher for each unit of risk taken on. In contrast, a lower Sharpe Ratio indicates a less favorable risk-reward trade-off, with the potential for lower returns relative to the amount of risk being assumed.\n",
    "\n",
    "The Sharpe Ratio is calculated using annualised portfolio returns, portfolio volatility (as the measure of risk), and the *risk-free rate*. The risk-free rate is often derived from the yield of a theoretically risk-free investment, typically a government bond. The Sharpe Ratio is the average return earned in excess of the risk-free rate per unit of volatility or total risk."
   ]
  },
  {
   "attachments": {},
   "cell_type": "markdown",
   "metadata": {},
   "source": [
    "### Exercise: Looking Sharpe\n",
    "\n",
    "Calculate the Sharpe Ratio for our portfolio by applying the formula below.\n",
    "\n",
    "$$ \\text{Sharpe Ratio} = \\frac{R_p - R_f}{\\sigma_p} $$\n",
    "\n",
    "- $R_p$ is our annualised portfolio return\n",
    "- $R_f$ is the risk-free rate\n",
    "- $\\sigma_p$ is our annualised volatility\n"
   ]
  },
  {
   "cell_type": "code",
   "execution_count": null,
   "metadata": {},
   "outputs": [],
   "source": [
    "## YOUR CODE GOES HERE"
   ]
  }
 ],
 "metadata": {
  "kernelspec": {
   "display_name": "Python 3",
   "language": "python",
   "name": "python3"
  },
  "language_info": {
   "codemirror_mode": {
    "name": "ipython",
    "version": 3
   },
   "file_extension": ".py",
   "mimetype": "text/x-python",
   "name": "python",
   "nbconvert_exporter": "python",
   "pygments_lexer": "ipython3",
   "version": "3.12.1"
  }
 },
 "nbformat": 4,
 "nbformat_minor": 2
}
